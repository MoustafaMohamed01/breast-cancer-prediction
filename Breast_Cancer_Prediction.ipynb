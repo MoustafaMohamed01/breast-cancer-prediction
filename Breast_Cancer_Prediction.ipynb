{
 "cells": [
  {
   "cell_type": "code",
   "execution_count": null,
   "metadata": {
    "id": "v9YhvBg0SnS7"
   },
   "outputs": [],
   "source": [
    "import seaborn as sns\n",
    "import torch\n",
    "import torch.nn as nn\n",
    "import torch.optim as optim\n",
    "from sklearn.datasets import load_breast_cancer\n",
    "from sklearn.model_selection import train_test_split\n",
    "from sklearn.preprocessing import StandardScaler"
   ]
  },
  {
   "cell_type": "code",
   "execution_count": null,
   "metadata": {
    "colab": {
     "base_uri": "https://localhost:8080/"
    },
    "id": "wwPaz-MUg4d7",
    "outputId": "5d53c2ea-fc7b-4e4f-d3bd-c3f09a5952a6"
   },
   "outputs": [],
   "source": [
    "device = torch.device('cuda' if torch.cuda.is_available() else 'cpu')\n",
    "print(f'Using device: {device}')"
   ]
  },
  {
   "cell_type": "code",
   "execution_count": null,
   "metadata": {
    "id": "6aETeWELTNrQ"
   },
   "outputs": [],
   "source": [
    "df = load_breast_cancer()"
   ]
  },
  {
   "cell_type": "code",
   "execution_count": null,
   "metadata": {
    "id": "mHSDkAmOTofN"
   },
   "outputs": [],
   "source": [
    "X = df.data\n",
    "y = df.target"
   ]
  },
  {
   "cell_type": "code",
   "execution_count": null,
   "metadata": {
    "colab": {
     "base_uri": "https://localhost:8080/"
    },
    "id": "DZh2oHN2TuTY",
    "outputId": "00fa3cbb-c3c6-4b32-ec6b-65e43919a575"
   },
   "outputs": [],
   "source": [
    "X[:2]"
   ]
  },
  {
   "cell_type": "code",
   "execution_count": null,
   "metadata": {
    "colab": {
     "base_uri": "https://localhost:8080/"
    },
    "id": "HU6QQJ5QhxaE",
    "outputId": "cae0d14b-d9e8-49c7-caf2-97d43af686d9"
   },
   "outputs": [],
   "source": [
    "y[:5]"
   ]
  },
  {
   "cell_type": "code",
   "execution_count": null,
   "metadata": {
    "id": "HVN0NdQHh27E"
   },
   "outputs": [],
   "source": [
    "X_train, X_test, y_train, y_test = train_test_split(X, y, test_size=0.2, random_state=42)"
   ]
  },
  {
   "cell_type": "code",
   "execution_count": null,
   "metadata": {
    "colab": {
     "base_uri": "https://localhost:8080/"
    },
    "id": "1gIOVzNXiJWi",
    "outputId": "35a86fad-8da5-453d-c086-2fd013c6e25e"
   },
   "outputs": [],
   "source": [
    "print(f'X_train: {X_train.shape}')\n",
    "print(f'X_test: {X_test.shape}')\n",
    "print(f'y_train: {y_train.shape}')\n",
    "print(f'y_test: {y_test.shape}')"
   ]
  },
  {
   "cell_type": "code",
   "execution_count": null,
   "metadata": {
    "id": "Rtbo8UUJiQ1l"
   },
   "outputs": [],
   "source": [
    "scaler = StandardScaler()"
   ]
  },
  {
   "cell_type": "code",
   "execution_count": null,
   "metadata": {
    "id": "wJxtyFL_i7G1"
   },
   "outputs": [],
   "source": [
    "X_train = scaler.fit_transform(X_train)\n",
    "X_test = scaler.transform(X_test)"
   ]
  },
  {
   "cell_type": "code",
   "execution_count": null,
   "metadata": {
    "id": "ceQveAS0jioh"
   },
   "outputs": [],
   "source": [
    "X_train = torch.tensor(X_train, dtype=torch.float32).to(device)\n",
    "y_train = torch.tensor(y_train, dtype=torch.float32).to(device)\n",
    "X_test = torch.tensor(X_test, dtype=torch.float32).to(device)\n",
    "y_test = torch.tensor(y_test, dtype=torch.float32).to(device)"
   ]
  },
  {
   "cell_type": "markdown",
   "metadata": {
    "id": "K87L0WuJkp8l"
   },
   "source": [
    "Neural Network"
   ]
  },
  {
   "cell_type": "code",
   "execution_count": null,
   "metadata": {
    "id": "wThPm-zskVK9"
   },
   "outputs": [],
   "source": [
    "class NeuralNet(nn.Module):\n",
    "  def __init__(self, input_size, hidden_size, output_size):\n",
    "    super(NeuralNet, self).__init__()\n",
    "    self.fc1 = nn.Linear(input_size, hidden_size)\n",
    "    self.relu = nn.ReLU()\n",
    "    self.fc2 = nn.Linear(hidden_size, output_size)\n",
    "    self.sigmoid = nn.Sigmoid()\n",
    "  def forward(self, x):\n",
    "    out = self.fc1(x)\n",
    "    out = self.relu(out)\n",
    "    out = self.fc2(out)\n",
    "    out = self.sigmoid(out)\n",
    "    return out"
   ]
  },
  {
   "cell_type": "code",
   "execution_count": null,
   "metadata": {
    "id": "CyO-eq8TrX0u"
   },
   "outputs": [],
   "source": [
    "input_size = X_train.shape[1]\n",
    "hidden_size = 64\n",
    "output_size = 1\n",
    "learning_rate = 0.001\n",
    "num_epochs = 100"
   ]
  },
  {
   "cell_type": "code",
   "execution_count": null,
   "metadata": {
    "id": "By2tA5hcrtZ1"
   },
   "outputs": [],
   "source": [
    "model = NeuralNet(input_size, hidden_size, output_size).to(device)"
   ]
  },
  {
   "cell_type": "code",
   "execution_count": null,
   "metadata": {
    "id": "OxPy-xMHsBSL"
   },
   "outputs": [],
   "source": [
    "criterion = nn.BCELoss()\n",
    "optimizer = optim.Adam(model.parameters(), lr=learning_rate)"
   ]
  },
  {
   "cell_type": "code",
   "execution_count": null,
   "metadata": {
    "colab": {
     "base_uri": "https://localhost:8080/"
    },
    "id": "kMHizi83swvd",
    "outputId": "24a7bec4-7e96-4768-dd7f-29e5d5b0545a"
   },
   "outputs": [],
   "source": [
    "for epoch in range(num_epochs):\n",
    "  model.train()\n",
    "  optimizer.zero_grad()\n",
    "  outputs = model(X_train)\n",
    "  loss = criterion(outputs, y_train.view(-1, 1))\n",
    "  loss.backward()\n",
    "  optimizer.step()\n",
    "\n",
    "  with torch.no_grad():\n",
    "    predicted = outputs.round()\n",
    "    correct = (predicted == y_train.view(-1, 1)).float().sum()\n",
    "    accuracy = correct / y_train.size(0)\n",
    "\n",
    "  if(epoch+1) % 10 == 0:\n",
    "    print(f'Epoch: {epoch+1}/{num_epochs}, Loss: {loss.item():.4f}, Accuracy: {accuracy.item()*100:.2f}%')"
   ]
  },
  {
   "cell_type": "markdown",
   "metadata": {
    "id": "oBGEhe3vunWR"
   },
   "source": [
    "Model Evaluation"
   ]
  },
  {
   "cell_type": "code",
   "execution_count": null,
   "metadata": {
    "colab": {
     "base_uri": "https://localhost:8080/"
    },
    "id": "CK91t7IUvGpc",
    "outputId": "37b1d4ad-4027-4d17-8b83-589de9493aeb"
   },
   "outputs": [],
   "source": [
    "model.eval()\n",
    "with torch.no_grad():\n",
    "  outputs = model(X_train)\n",
    "  predicted = outputs.round()\n",
    "  correct = (predicted == y_train.view(-1, 1)).float().sum()\n",
    "  accuracy = correct / y_train.size(0)\n",
    "  print(f'Accuracy: {accuracy.item()*100:.2f}%')"
   ]
  },
  {
   "cell_type": "code",
   "execution_count": null,
   "metadata": {
    "colab": {
     "base_uri": "https://localhost:8080/"
    },
    "id": "m80JXX1_uelZ",
    "outputId": "c75c5ce4-0178-42b4-a431-089db864d19d"
   },
   "outputs": [],
   "source": [
    "model.eval()\n",
    "with torch.no_grad():\n",
    "  outputs = model(X_test)\n",
    "  predicted = outputs.round()\n",
    "  correct = (predicted == y_test.view(-1, 1)).float().sum()\n",
    "  accuracy = correct / y_test.size(0)\n",
    "  print(f'Accuracy: {accuracy.item()*100:.2f}%')"
   ]
  },
  {
   "cell_type": "code",
   "execution_count": null,
   "metadata": {},
   "outputs": [],
   "source": [
    "import matplotlib.pyplot as plt\n",
    "from torch.utils.data import TensorDataset, DataLoader"
   ]
  },
  {
   "cell_type": "code",
   "execution_count": null,
   "metadata": {
    "id": "RPQiks7iTCmz"
   },
   "outputs": [],
   "source": [
    "batch_size = 32\n",
    "train_dataset = TensorDataset(X_train, y_train)\n",
    "train_loader = DataLoader(train_dataset, batch_size=batch_size, shuffle=True)"
   ]
  },
  {
   "cell_type": "code",
   "execution_count": null,
   "metadata": {
    "id": "pWp_4mgwRVY5"
   },
   "outputs": [],
   "source": [
    "input_size = X_train.shape[1]\n",
    "hidden_size = 128\n",
    "output_size = 1\n",
    "learning_rate = 0.001\n",
    "num_epochs = 100\n",
    "weight_decay = 1e-5"
   ]
  },
  {
   "cell_type": "code",
   "execution_count": null,
   "metadata": {
    "id": "vhhSXthPRVLY"
   },
   "outputs": [],
   "source": [
    "model = NeuralNet(input_size, hidden_size, output_size).to(device)"
   ]
  },
  {
   "cell_type": "code",
   "execution_count": null,
   "metadata": {
    "id": "9E9AMc17SW3I"
   },
   "outputs": [],
   "source": [
    "criterion = nn.BCELoss()\n",
    "optimizer = optim.Adam(model.parameters(), lr=learning_rate, weight_decay=weight_decay)"
   ]
  },
  {
   "cell_type": "code",
   "execution_count": null,
   "metadata": {
    "id": "Bg5kUFNaSWzw"
   },
   "outputs": [],
   "source": [
    "loss_values = []\n",
    "accuracy_values = []"
   ]
  },
  {
   "cell_type": "code",
   "execution_count": null,
   "metadata": {
    "colab": {
     "base_uri": "https://localhost:8080/"
    },
    "id": "Vju24JZrSWxe",
    "outputId": "a00ce6da-7529-4478-c769-3d861df6faed"
   },
   "outputs": [],
   "source": [
    "for epoch in range(num_epochs):\n",
    "    model.train()\n",
    "    total_loss = 0\n",
    "    correct = 0\n",
    "    total = 0\n",
    "\n",
    "    for batch_X, batch_y in train_loader:\n",
    "        optimizer.zero_grad()\n",
    "        outputs = model(batch_X)\n",
    "        loss = criterion(outputs, batch_y.view(-1, 1))\n",
    "        loss.backward()\n",
    "        optimizer.step()\n",
    "        total_loss += loss.item()\n",
    "\n",
    "        predicted = outputs.round()\n",
    "        correct += (predicted == batch_y.view(-1, 1)).float().sum().item()\n",
    "        total += batch_y.size(0)\n",
    "\n",
    "    avg_loss = total_loss / len(train_loader)\n",
    "    accuracy = correct / total\n",
    "\n",
    "    loss_values.append(avg_loss)\n",
    "    accuracy_values.append(accuracy)\n",
    "\n",
    "    if (epoch+1) % 10 == 0:\n",
    "        print(f'Epoch [{epoch+1}/{num_epochs}], Loss: {avg_loss:.4f}, Accuracy: {accuracy * 100:.2f}%')"
   ]
  },
  {
   "cell_type": "code",
   "execution_count": null,
   "metadata": {
    "colab": {
     "base_uri": "https://localhost:8080/"
    },
    "id": "YWd7VeJGSWvG",
    "outputId": "61487f4d-9ab9-4db3-a64d-c0dac278cd79"
   },
   "outputs": [],
   "source": [
    "torch.save(model.state_dict(), 'breast_cancer_model.pth')\n",
    "print(\"Model saved successfully!\")"
   ]
  },
  {
   "cell_type": "code",
   "execution_count": null,
   "metadata": {
    "colab": {
     "base_uri": "https://localhost:8080/",
     "height": 571
    },
    "id": "gz91uOsASWsw",
    "outputId": "017d6a81-e610-4b08-9a00-9db0f2f7b2ca"
   },
   "outputs": [],
   "source": [
    "sns.set_style(\"darkgrid\")\n",
    "plt.style.use(\"dark_background\")\n",
    "plt.figure(figsize=(12, 6))\n",
    "\n",
    "plt.plot(loss_values, color=\"#00FFAA\", linewidth=2.5, alpha=0.9, label=\"Loss\")\n",
    "plt.xlabel(\"Epoch\", fontsize=14, fontweight=\"bold\", color=\"cyan\")\n",
    "plt.ylabel(\"Loss\", fontsize=14, fontweight=\"bold\", color=\"cyan\")\n",
    "plt.title(\"Training Loss Curve\", fontsize=16, fontweight=\"bold\", color=\"magenta\")\n",
    "plt.plot(loss_values, color=\"#00FFAA\", linewidth=6, alpha=0.2)\n",
    "\n",
    "plt.legend(facecolor=\"black\", edgecolor=\"cyan\", fontsize=12, loc=\"upper right\")\n",
    "plt.savefig(\"training_loss_curve.png\", dpi=300, bbox_inches='tight')\n",
    "plt.show()"
   ]
  },
  {
   "cell_type": "code",
   "execution_count": null,
   "metadata": {
    "colab": {
     "base_uri": "https://localhost:8080/",
     "height": 640
    },
    "id": "mjc_XDicSWqM",
    "outputId": "ea7e8e8a-14f9-412d-f161-b95fb8081538"
   },
   "outputs": [],
   "source": [
    "sns.set_style(\"darkgrid\")\n",
    "plt.style.use(\"dark_background\")\n",
    "\n",
    "plt.figure(figsize=(12, 6))\n",
    "plt.plot(accuracy_values, color=\"#FFD700\", linewidth=2.5, alpha=0.9, label=\"Accuracy\")\n",
    "plt.xlabel(\"Epoch\", fontsize=14, fontweight=\"bold\", color=\"cyan\")\n",
    "plt.ylabel(\"Accuracy\", fontsize=14, fontweight=\"bold\", color=\"cyan\")\n",
    "plt.title(\"🚀 Training Accuracy Curve 🚀\", fontsize=16, fontweight=\"bold\", color=\"magenta\")\n",
    "plt.plot(accuracy_values, color=\"#FFD700\", linewidth=6, alpha=0.2)\n",
    "\n",
    "plt.legend(facecolor=\"black\", edgecolor=\"cyan\", fontsize=12, loc=\"lower right\")\n",
    "plt.savefig(\"training_accuracy_curve.png\", dpi=300, bbox_inches='tight')\n",
    "plt.show()"
   ]
  },
  {
   "cell_type": "code",
   "execution_count": null,
   "metadata": {
    "colab": {
     "base_uri": "https://localhost:8080/"
    },
    "id": "jk1J3betSWno",
    "outputId": "8f553c23-192e-4900-8548-0e8438d13fbd"
   },
   "outputs": [],
   "source": [
    "with torch.no_grad():\n",
    "    outputs = model(X_test)\n",
    "    predicted = outputs.round()\n",
    "    correct = (predicted == y_test.view(-1, 1)).float().sum().item()\n",
    "    accuracy = correct / y_test.size(0)\n",
    "    print(f'Test Accuracy: {accuracy * 100:.2f}%')"
   ]
  },
  {
   "cell_type": "code",
   "execution_count": null,
   "metadata": {
    "colab": {
     "base_uri": "https://localhost:8080/"
    },
    "id": "O755BLffSWk9",
    "outputId": "51e311c3-e91f-46bc-9241-210a808c9f7f"
   },
   "outputs": [],
   "source": [
    "new_sample = torch.tensor([X_test[0].cpu().numpy()], dtype=torch.float32).to(device)\n",
    "prediction = model(new_sample).item()\n",
    "print(f'Prediction: {\"Malignant\" if prediction >= 0.5 else \"Benign\"}')"
   ]
  },
  {
   "cell_type": "code",
   "execution_count": null,
   "metadata": {
    "colab": {
     "base_uri": "https://localhost:8080/"
    },
    "id": "iA0rXG5OSWiT",
    "outputId": "4731e6b8-4af9-4071-c5f3-e9c871f8b504"
   },
   "outputs": [],
   "source": [
    "import random\n",
    "random_idx = random.randint(0, X_test.shape[0] - 1)\n",
    "new_sample = torch.tensor([X_test[random_idx].cpu().numpy()], dtype=torch.float32).to(device)\n",
    "prediction = model(new_sample).item()\n",
    "print(f'Sample Index: {random_idx}')\n",
    "print(f'Prediction: {\"Malignant\" if prediction >= 0.5 else \"Benign\"}')"
   ]
  },
  {
   "cell_type": "code",
   "execution_count": null,
   "metadata": {
    "colab": {
     "base_uri": "https://localhost:8080/"
    },
    "id": "aGRNXgPySWWi",
    "outputId": "2b27b58c-f7f2-404e-93e6-20f665fc946b"
   },
   "outputs": [],
   "source": [
    "random_idx = random.randint(0, X_test.shape[0] - 1)\n",
    "new_sample = torch.tensor([X_test[random_idx].cpu().numpy()], dtype=torch.float32).to(device)\n",
    "prediction = model(new_sample).item()\n",
    "print(f'Sample Index: {random_idx}')\n",
    "print(f'Prediction: {\"Malignant\" if prediction >= 0.5 else \"Benign\"}')"
   ]
  },
  {
   "cell_type": "code",
   "execution_count": null,
   "metadata": {
    "id": "EOQaPzJoT3Y-"
   },
   "outputs": [],
   "source": []
  }
 ],
 "metadata": {
  "accelerator": "GPU",
  "colab": {
   "gpuType": "T4",
   "provenance": []
  },
  "kernelspec": {
   "display_name": "Python 3 (ipykernel)",
   "language": "python",
   "name": "python3"
  },
  "language_info": {
   "codemirror_mode": {
    "name": "ipython",
    "version": 3
   },
   "file_extension": ".py",
   "mimetype": "text/x-python",
   "name": "python",
   "nbconvert_exporter": "python",
   "pygments_lexer": "ipython3",
   "version": "3.12.3"
  }
 },
 "nbformat": 4,
 "nbformat_minor": 4
}
